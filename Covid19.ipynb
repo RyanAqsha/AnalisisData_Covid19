{
 "cells": [
  {
   "cell_type": "markdown",
   "metadata": {},
   "source": [
    "\n",
    "# Analisis Data Covid-19\n",
    "## Linear Regression & Statistical Prediction"
   ]
  },
  {
   "cell_type": "markdown",
   "metadata": {},
   "source": [
    "Memanggil library yang di butuhkan dalam Proses Analisis\n",
    "1. Mengimpor Pandas untuk manipulasi dan analisis data berbasis tabel.\n",
    "2. Mengimpor NumPy untuk komputasi numerik, seperti operasi array dan matriks.\n",
    "3. Mengimpor Matplotlib untuk membuat visualisasi data seperti grafik dan plot.\n",
    "4. Mengimpor Seaborn untuk membuat visualisasi data statistik yang lebih menarik dan informatif."
   ]
  },
  {
   "cell_type": "code",
   "execution_count": 57,
   "metadata": {},
   "outputs": [],
   "source": [
    "import pandas as pd\n",
    "import numpy as np\n",
    "import matplotlib.pyplot as plt\n",
    "import seaborn as sns"
   ]
  },
  {
   "cell_type": "markdown",
   "metadata": {},
   "source": [
    "1. Mengimpor fungsi datetime dan timedelta untuk menangani operasi terkait waktu dan tanggal.\n",
    "2. Mengimpor fungsi untuk membagi dataset menjadi set pelatihan (training) dan pengujian (testing).\n",
    "3. Mengimpor metrik untuk mengevaluasi performa model, seperti Mean Squared Error (MSE) dan R-squared (R²).\n",
    "4. Mengimpor fungsi untuk melakukan fitting kurva non-linear terhadap data."
   ]
  },
  {
   "cell_type": "code",
   "execution_count": 2,
   "metadata": {},
   "outputs": [],
   "source": [
    "from datetime import datetime, timedelta\n",
    "from sklearn.model_selection import train_test_split\n",
    "from sklearn.metrics import mean_squared_error, r2_score\n",
    "from scipy.optimize import curve_fit"
   ]
  },
  {
   "cell_type": "markdown",
   "metadata": {},
   "source": [
    "Selanjutnya memanggil dataset yang kita butuhkan ke dalam pemrograman Python menggunakan 3 buah dataset yaitu \n",
    "1. Kasus yang terkonfirmasi Covid \n",
    "2. Pasien  \n",
    "3. Provinsi yang terkena Covid."
   ]
  },
  {
   "cell_type": "code",
   "execution_count": 3,
   "metadata": {},
   "outputs": [
    {
     "name": "stdout",
     "output_type": "stream",
     "text": [
      "   patient_id  gender   age nationality     province current_state  \\\n",
      "0           1  female  31.0   indonesia  DKI Jakarta      released   \n",
      "1           2  female  64.0   indonesia  DKI Jakarta      released   \n",
      "2           3  female  33.0   indonesia  DKI Jakarta      released   \n",
      "3           4  female  34.0   indonesia  DKI Jakarta      isolated   \n",
      "4           5    male  55.0   indonesia  DKI Jakarta      isolated   \n",
      "\n",
      "   contacted_with confirmed_date released_date deceased_date  \\\n",
      "0             NaN       2-Mar-20     13-Mar-20           NaN   \n",
      "1             1.0       2-Mar-20     16-Mar-20           NaN   \n",
      "2             1.0       6-Mar-20     13-Mar-20           NaN   \n",
      "3             1.0       6-Mar-20           NaN           NaN   \n",
      "4             1.0       8-Mar-20           NaN           NaN   \n",
      "\n",
      "               hospital  \n",
      "0  RSPI Sulianti Saroso  \n",
      "1  RSPI Sulianti Saroso  \n",
      "2  RSPI Sulianti Saroso  \n",
      "3  RSPI Sulianti Saroso  \n",
      "4       RS Persahabatan  \n",
      "        date  cases\n",
      "0  1/22/2020      0\n",
      "1  1/23/2020      0\n",
      "2  1/24/2020      0\n",
      "3  1/25/2020      0\n",
      "4  1/26/2020      0\n",
      "   province_id   province_name                   island iso_code capital_city  \\\n",
      "0            1            Aceh                  Sumatra       AC   Banda Aceh   \n",
      "1            2            Bali  Kepulauan Nusa Tenggara       BA     Denpasar   \n",
      "2            3          Banten                     Jawa       BT       Serang   \n",
      "3            4        Bengkulu                  Sumatra       BE     Bengkulu   \n",
      "4            5   DI Yogyakarta                     Jawa       YO   Yogyakarta   \n",
      "\n",
      "   population  population_kmsquare  confirmed  deceased  released  \\\n",
      "0     4906835                   86          4         0         0   \n",
      "1     4104900                  738          9         2         0   \n",
      "2    11704877                 1298         84         4         1   \n",
      "3     1844800                   93          0         0         0   \n",
      "4     3553100                 1134         22         2         1   \n",
      "\n",
      "     longitude    latitude  \n",
      "0    9.672.895   3.869.994  \n",
      "1   11.512.255    -825.731  \n",
      "2  106.160.889  -6.315.299  \n",
      "3  102.315.674  -3.414.725  \n",
      "4  110.390.625  -7.863.382  \n"
     ]
    }
   ],
   "source": [
    "dataPasien = pd.read_csv (\"patient.csv\")\n",
    "dataTerkonfirmasi = pd.read_csv (\"confirmed_acc.csv\")\n",
    "Provinsi = pd.read_csv (\"province.csv\",encoding = 'unicode_escape')\n",
    "\n",
    "print (dataPasien.head())\n",
    "print (dataTerkonfirmasi.head())\n",
    "print (Provinsi.head())"
   ]
  },
  {
   "cell_type": "markdown",
   "metadata": {},
   "source": [
    "Rumusan Masalah"
   ]
  },
  {
   "cell_type": "markdown",
   "metadata": {},
   "source": [
    "1. Kita ingin melihat banyak kasus terkonvirmasi covid-19"
   ]
  },
  {
   "cell_type": "code",
   "execution_count": 4,
   "metadata": {},
   "outputs": [
    {
     "data": {
      "text/html": [
       "<div>\n",
       "<style scoped>\n",
       "    .dataframe tbody tr th:only-of-type {\n",
       "        vertical-align: middle;\n",
       "    }\n",
       "\n",
       "    .dataframe tbody tr th {\n",
       "        vertical-align: top;\n",
       "    }\n",
       "\n",
       "    .dataframe thead th {\n",
       "        text-align: right;\n",
       "    }\n",
       "</style>\n",
       "<table border=\"1\" class=\"dataframe\">\n",
       "  <thead>\n",
       "    <tr style=\"text-align: right;\">\n",
       "      <th></th>\n",
       "      <th>date</th>\n",
       "      <th>cases</th>\n",
       "    </tr>\n",
       "  </thead>\n",
       "  <tbody>\n",
       "    <tr>\n",
       "      <th>0</th>\n",
       "      <td>1/22/2020</td>\n",
       "      <td>0</td>\n",
       "    </tr>\n",
       "    <tr>\n",
       "      <th>1</th>\n",
       "      <td>1/23/2020</td>\n",
       "      <td>0</td>\n",
       "    </tr>\n",
       "    <tr>\n",
       "      <th>2</th>\n",
       "      <td>1/24/2020</td>\n",
       "      <td>0</td>\n",
       "    </tr>\n",
       "    <tr>\n",
       "      <th>3</th>\n",
       "      <td>1/25/2020</td>\n",
       "      <td>0</td>\n",
       "    </tr>\n",
       "    <tr>\n",
       "      <th>4</th>\n",
       "      <td>1/26/2020</td>\n",
       "      <td>0</td>\n",
       "    </tr>\n",
       "  </tbody>\n",
       "</table>\n",
       "</div>"
      ],
      "text/plain": [
       "        date  cases\n",
       "0  1/22/2020      0\n",
       "1  1/23/2020      0\n",
       "2  1/24/2020      0\n",
       "3  1/25/2020      0\n",
       "4  1/26/2020      0"
      ]
     },
     "execution_count": 4,
     "metadata": {},
     "output_type": "execute_result"
    }
   ],
   "source": [
    "dataTerkonfirmasi.head()"
   ]
  },
  {
   "cell_type": "markdown",
   "metadata": {},
   "source": [
    "2. Cek data Covid yang belum terkonfirmasi atau mulai adanya kasus Covid tersebut. \n",
    "- Disini kita mengurutkan data tersebut berdasarkan tanggal paling terbaru  \n",
    "- menampilkan 5 Data pertama dari data Covid yang belum terkonfirmasi."
   ]
  },
  {
   "cell_type": "code",
   "execution_count": 5,
   "metadata": {},
   "outputs": [
    {
     "data": {
      "text/html": [
       "<div>\n",
       "<style scoped>\n",
       "    .dataframe tbody tr th:only-of-type {\n",
       "        vertical-align: middle;\n",
       "    }\n",
       "\n",
       "    .dataframe tbody tr th {\n",
       "        vertical-align: top;\n",
       "    }\n",
       "\n",
       "    .dataframe thead th {\n",
       "        text-align: right;\n",
       "    }\n",
       "</style>\n",
       "<table border=\"1\" class=\"dataframe\">\n",
       "  <thead>\n",
       "    <tr style=\"text-align: right;\">\n",
       "      <th></th>\n",
       "      <th>date</th>\n",
       "      <th>cases</th>\n",
       "    </tr>\n",
       "  </thead>\n",
       "  <tbody>\n",
       "    <tr>\n",
       "      <th>39</th>\n",
       "      <td>3/1/2020</td>\n",
       "      <td>0</td>\n",
       "    </tr>\n",
       "    <tr>\n",
       "      <th>18</th>\n",
       "      <td>2/9/2020</td>\n",
       "      <td>0</td>\n",
       "    </tr>\n",
       "    <tr>\n",
       "      <th>17</th>\n",
       "      <td>2/8/2020</td>\n",
       "      <td>0</td>\n",
       "    </tr>\n",
       "    <tr>\n",
       "      <th>16</th>\n",
       "      <td>2/7/2020</td>\n",
       "      <td>0</td>\n",
       "    </tr>\n",
       "    <tr>\n",
       "      <th>15</th>\n",
       "      <td>2/6/2020</td>\n",
       "      <td>0</td>\n",
       "    </tr>\n",
       "  </tbody>\n",
       "</table>\n",
       "</div>"
      ],
      "text/plain": [
       "        date  cases\n",
       "39  3/1/2020      0\n",
       "18  2/9/2020      0\n",
       "17  2/8/2020      0\n",
       "16  2/7/2020      0\n",
       "15  2/6/2020      0"
      ]
     },
     "execution_count": 5,
     "metadata": {},
     "output_type": "execute_result"
    }
   ],
   "source": [
    "(dataTerkonfirmasi[dataTerkonfirmasi['cases'] == 0].sort_values(by=['date'], ascending=False)).head()"
   ]
  },
  {
   "cell_type": "markdown",
   "metadata": {},
   "source": [
    "Selanjutnya kita konversi data tanggal tersebut menjadi total hari. Disini kita mengambil data tanggal awal yaitu 1 Maret 2020."
   ]
  },
  {
   "cell_type": "code",
   "execution_count": 6,
   "metadata": {},
   "outputs": [
    {
     "name": "stderr",
     "output_type": "stream",
     "text": [
      "C:\\Users\\HP\\AppData\\Local\\Temp\\ipykernel_12440\\4188260665.py:2: SettingWithCopyWarning: \n",
      "A value is trying to be set on a copy of a slice from a DataFrame.\n",
      "Try using .loc[row_indexer,col_indexer] = value instead\n",
      "\n",
      "See the caveats in the documentation: https://pandas.pydata.org/pandas-docs/stable/user_guide/indexing.html#returning-a-view-versus-a-copy\n",
      "  df['days']= df['date'].map(lambda x : (datetime.strptime(x, '%m/%d/%Y') - datetime.strptime(\"3/1/2020\", '%m/%d/%Y')).days)\n"
     ]
    },
    {
     "data": {
      "text/html": [
       "<div>\n",
       "<style scoped>\n",
       "    .dataframe tbody tr th:only-of-type {\n",
       "        vertical-align: middle;\n",
       "    }\n",
       "\n",
       "    .dataframe tbody tr th {\n",
       "        vertical-align: top;\n",
       "    }\n",
       "\n",
       "    .dataframe thead th {\n",
       "        text-align: right;\n",
       "    }\n",
       "</style>\n",
       "<table border=\"1\" class=\"dataframe\">\n",
       "  <thead>\n",
       "    <tr style=\"text-align: right;\">\n",
       "      <th></th>\n",
       "      <th>date</th>\n",
       "      <th>days</th>\n",
       "      <th>cases</th>\n",
       "    </tr>\n",
       "  </thead>\n",
       "  <tbody>\n",
       "    <tr>\n",
       "      <th>39</th>\n",
       "      <td>3/1/2020</td>\n",
       "      <td>0</td>\n",
       "      <td>0</td>\n",
       "    </tr>\n",
       "    <tr>\n",
       "      <th>40</th>\n",
       "      <td>3/2/2020</td>\n",
       "      <td>1</td>\n",
       "      <td>2</td>\n",
       "    </tr>\n",
       "    <tr>\n",
       "      <th>41</th>\n",
       "      <td>3/3/2020</td>\n",
       "      <td>2</td>\n",
       "      <td>2</td>\n",
       "    </tr>\n",
       "    <tr>\n",
       "      <th>42</th>\n",
       "      <td>3/4/2020</td>\n",
       "      <td>3</td>\n",
       "      <td>2</td>\n",
       "    </tr>\n",
       "    <tr>\n",
       "      <th>43</th>\n",
       "      <td>3/5/2020</td>\n",
       "      <td>4</td>\n",
       "      <td>2</td>\n",
       "    </tr>\n",
       "    <tr>\n",
       "      <th>44</th>\n",
       "      <td>3/6/2020</td>\n",
       "      <td>5</td>\n",
       "      <td>4</td>\n",
       "    </tr>\n",
       "    <tr>\n",
       "      <th>45</th>\n",
       "      <td>3/7/2020</td>\n",
       "      <td>6</td>\n",
       "      <td>4</td>\n",
       "    </tr>\n",
       "    <tr>\n",
       "      <th>46</th>\n",
       "      <td>3/8/2020</td>\n",
       "      <td>7</td>\n",
       "      <td>6</td>\n",
       "    </tr>\n",
       "    <tr>\n",
       "      <th>47</th>\n",
       "      <td>3/9/2020</td>\n",
       "      <td>8</td>\n",
       "      <td>19</td>\n",
       "    </tr>\n",
       "    <tr>\n",
       "      <th>48</th>\n",
       "      <td>3/10/2020</td>\n",
       "      <td>9</td>\n",
       "      <td>27</td>\n",
       "    </tr>\n",
       "    <tr>\n",
       "      <th>49</th>\n",
       "      <td>3/11/2020</td>\n",
       "      <td>10</td>\n",
       "      <td>34</td>\n",
       "    </tr>\n",
       "    <tr>\n",
       "      <th>50</th>\n",
       "      <td>3/12/2020</td>\n",
       "      <td>11</td>\n",
       "      <td>34</td>\n",
       "    </tr>\n",
       "    <tr>\n",
       "      <th>51</th>\n",
       "      <td>3/13/2020</td>\n",
       "      <td>12</td>\n",
       "      <td>69</td>\n",
       "    </tr>\n",
       "    <tr>\n",
       "      <th>52</th>\n",
       "      <td>3/14/2020</td>\n",
       "      <td>13</td>\n",
       "      <td>96</td>\n",
       "    </tr>\n",
       "    <tr>\n",
       "      <th>53</th>\n",
       "      <td>3/15/2020</td>\n",
       "      <td>14</td>\n",
       "      <td>117</td>\n",
       "    </tr>\n",
       "    <tr>\n",
       "      <th>54</th>\n",
       "      <td>3/16/2020</td>\n",
       "      <td>15</td>\n",
       "      <td>134</td>\n",
       "    </tr>\n",
       "    <tr>\n",
       "      <th>55</th>\n",
       "      <td>3/17/2020</td>\n",
       "      <td>16</td>\n",
       "      <td>172</td>\n",
       "    </tr>\n",
       "    <tr>\n",
       "      <th>56</th>\n",
       "      <td>3/18/2020</td>\n",
       "      <td>17</td>\n",
       "      <td>227</td>\n",
       "    </tr>\n",
       "    <tr>\n",
       "      <th>57</th>\n",
       "      <td>3/19/2020</td>\n",
       "      <td>18</td>\n",
       "      <td>309</td>\n",
       "    </tr>\n",
       "    <tr>\n",
       "      <th>58</th>\n",
       "      <td>3/20/2020</td>\n",
       "      <td>19</td>\n",
       "      <td>369</td>\n",
       "    </tr>\n",
       "    <tr>\n",
       "      <th>59</th>\n",
       "      <td>3/21/2020</td>\n",
       "      <td>20</td>\n",
       "      <td>450</td>\n",
       "    </tr>\n",
       "    <tr>\n",
       "      <th>60</th>\n",
       "      <td>3/22/2020</td>\n",
       "      <td>21</td>\n",
       "      <td>514</td>\n",
       "    </tr>\n",
       "    <tr>\n",
       "      <th>61</th>\n",
       "      <td>3/23/2020</td>\n",
       "      <td>22</td>\n",
       "      <td>579</td>\n",
       "    </tr>\n",
       "    <tr>\n",
       "      <th>62</th>\n",
       "      <td>3/24/2020</td>\n",
       "      <td>23</td>\n",
       "      <td>685</td>\n",
       "    </tr>\n",
       "    <tr>\n",
       "      <th>63</th>\n",
       "      <td>3/25/2020</td>\n",
       "      <td>24</td>\n",
       "      <td>790</td>\n",
       "    </tr>\n",
       "    <tr>\n",
       "      <th>64</th>\n",
       "      <td>3/26/2020</td>\n",
       "      <td>25</td>\n",
       "      <td>893</td>\n",
       "    </tr>\n",
       "    <tr>\n",
       "      <th>65</th>\n",
       "      <td>3/27/2020</td>\n",
       "      <td>26</td>\n",
       "      <td>1046</td>\n",
       "    </tr>\n",
       "    <tr>\n",
       "      <th>66</th>\n",
       "      <td>3/28/2020</td>\n",
       "      <td>27</td>\n",
       "      <td>1155</td>\n",
       "    </tr>\n",
       "    <tr>\n",
       "      <th>67</th>\n",
       "      <td>3/29/2020</td>\n",
       "      <td>28</td>\n",
       "      <td>1285</td>\n",
       "    </tr>\n",
       "    <tr>\n",
       "      <th>68</th>\n",
       "      <td>3/30/2020</td>\n",
       "      <td>29</td>\n",
       "      <td>1414</td>\n",
       "    </tr>\n",
       "    <tr>\n",
       "      <th>69</th>\n",
       "      <td>3/31/2020</td>\n",
       "      <td>30</td>\n",
       "      <td>1528</td>\n",
       "    </tr>\n",
       "    <tr>\n",
       "      <th>70</th>\n",
       "      <td>4/1/2020</td>\n",
       "      <td>31</td>\n",
       "      <td>1677</td>\n",
       "    </tr>\n",
       "    <tr>\n",
       "      <th>71</th>\n",
       "      <td>4/2/2020</td>\n",
       "      <td>32</td>\n",
       "      <td>1790</td>\n",
       "    </tr>\n",
       "    <tr>\n",
       "      <th>72</th>\n",
       "      <td>4/3/2020</td>\n",
       "      <td>33</td>\n",
       "      <td>1986</td>\n",
       "    </tr>\n",
       "    <tr>\n",
       "      <th>73</th>\n",
       "      <td>4/4/2020</td>\n",
       "      <td>34</td>\n",
       "      <td>2092</td>\n",
       "    </tr>\n",
       "    <tr>\n",
       "      <th>74</th>\n",
       "      <td>4/5/2020</td>\n",
       "      <td>35</td>\n",
       "      <td>2273</td>\n",
       "    </tr>\n",
       "    <tr>\n",
       "      <th>75</th>\n",
       "      <td>4/6/2020</td>\n",
       "      <td>36</td>\n",
       "      <td>2491</td>\n",
       "    </tr>\n",
       "    <tr>\n",
       "      <th>76</th>\n",
       "      <td>4/7/2020</td>\n",
       "      <td>37</td>\n",
       "      <td>2738</td>\n",
       "    </tr>\n",
       "    <tr>\n",
       "      <th>77</th>\n",
       "      <td>4/8/2020</td>\n",
       "      <td>38</td>\n",
       "      <td>2956</td>\n",
       "    </tr>\n",
       "    <tr>\n",
       "      <th>78</th>\n",
       "      <td>4/9/2020</td>\n",
       "      <td>39</td>\n",
       "      <td>3293</td>\n",
       "    </tr>\n",
       "    <tr>\n",
       "      <th>79</th>\n",
       "      <td>4/10/2020</td>\n",
       "      <td>40</td>\n",
       "      <td>3512</td>\n",
       "    </tr>\n",
       "  </tbody>\n",
       "</table>\n",
       "</div>"
      ],
      "text/plain": [
       "         date  days  cases\n",
       "39   3/1/2020     0      0\n",
       "40   3/2/2020     1      2\n",
       "41   3/3/2020     2      2\n",
       "42   3/4/2020     3      2\n",
       "43   3/5/2020     4      2\n",
       "44   3/6/2020     5      4\n",
       "45   3/7/2020     6      4\n",
       "46   3/8/2020     7      6\n",
       "47   3/9/2020     8     19\n",
       "48  3/10/2020     9     27\n",
       "49  3/11/2020    10     34\n",
       "50  3/12/2020    11     34\n",
       "51  3/13/2020    12     69\n",
       "52  3/14/2020    13     96\n",
       "53  3/15/2020    14    117\n",
       "54  3/16/2020    15    134\n",
       "55  3/17/2020    16    172\n",
       "56  3/18/2020    17    227\n",
       "57  3/19/2020    18    309\n",
       "58  3/20/2020    19    369\n",
       "59  3/21/2020    20    450\n",
       "60  3/22/2020    21    514\n",
       "61  3/23/2020    22    579\n",
       "62  3/24/2020    23    685\n",
       "63  3/25/2020    24    790\n",
       "64  3/26/2020    25    893\n",
       "65  3/27/2020    26   1046\n",
       "66  3/28/2020    27   1155\n",
       "67  3/29/2020    28   1285\n",
       "68  3/30/2020    29   1414\n",
       "69  3/31/2020    30   1528\n",
       "70   4/1/2020    31   1677\n",
       "71   4/2/2020    32   1790\n",
       "72   4/3/2020    33   1986\n",
       "73   4/4/2020    34   2092\n",
       "74   4/5/2020    35   2273\n",
       "75   4/6/2020    36   2491\n",
       "76   4/7/2020    37   2738\n",
       "77   4/8/2020    38   2956\n",
       "78   4/9/2020    39   3293\n",
       "79  4/10/2020    40   3512"
      ]
     },
     "execution_count": 6,
     "metadata": {},
     "output_type": "execute_result"
    }
   ],
   "source": [
    "df = dataTerkonfirmasi.iloc[39:]\n",
    "df['days']= df['date'].map(lambda x : (datetime.strptime(x, '%m/%d/%Y') - datetime.strptime(\"3/1/2020\", '%m/%d/%Y')).days)\n",
    "df[['date','days','cases']] #reorder column"
   ]
  },
  {
   "cell_type": "markdown",
   "metadata": {},
   "source": [
    "Lalu kita buat sebuah function atau method untuk proses prediksi data Covid-19 yang kita miliki. Disini kita menggunakan library bawaan dari Python ini sendiri tetapi disini kita menentukan nilai parameter yang kita gunakan seperti ini.\n",
    "\n",
    " Kode ini akan memprediksi nilai pertumbuhan kasus menggunakan fungsi Gompertz, dengan fitting kurva untuk menyesuaikan parameter berdasarkan data pelatihan, lalu memperpanjang prediksi ke hari-hari mendatang."
   ]
  },
  {
   "cell_type": "code",
   "execution_count": 7,
   "metadata": {},
   "outputs": [
    {
     "name": "stderr",
     "output_type": "stream",
     "text": [
      "C:\\Users\\HP\\AppData\\Local\\Temp\\ipykernel_12440\\3805879261.py:2: RuntimeWarning: overflow encountered in exp\n",
      "  Q = a * np.exp(-np.exp(-c*(t-t_0)))\n"
     ]
    },
    {
     "data": {
      "text/plain": [
       "array([6.94453422e-03, 1.88295098e-02, 4.75043830e-02, 1.12095671e-01,\n",
       "       2.48600952e-01, 5.20501753e-01, 1.03312552e+00, 1.95151092e+00,\n",
       "       3.52071069e+00, 6.08657931e+00, 1.01143448e+01, 1.62018648e+01,\n",
       "       2.50845667e+01, 3.76297134e+01, 5.48187449e+01, 7.77178331e+01,\n",
       "       1.07438219e+02, 1.45089136e+02, 1.91726984e+02, 2.48304767e+02,\n",
       "       3.15625683e+02, 3.94304201e+02, 4.84737062e+02, 5.87085640e+02,\n",
       "       7.01270050e+02, 8.26974448e+02, 9.63662219e+02, 1.11059925e+03,\n",
       "       1.26688317e+03, 1.43147639e+03, 1.60324086e+03, 1.78097279e+03,\n",
       "       1.96343565e+03, 2.14939045e+03, 2.33762249e+03, 2.52696388e+03,\n",
       "       2.71631192e+03, 2.90464320e+03, 3.09102366e+03, 3.27461503e+03,\n",
       "       3.45467801e+03, 3.63057262e+03, 3.80175640e+03, 3.96778061e+03,\n",
       "       4.12828520e+03, 4.28299265e+03, 4.43170126e+03, 4.57427802e+03,\n",
       "       4.71065131e+03, 4.84080382e+03, 4.96476551e+03, 5.08260702e+03,\n",
       "       5.19443348e+03, 5.30037872e+03, 5.40060007e+03, 5.49527359e+03,\n",
       "       5.58458980e+03, 5.66874995e+03, 5.74796273e+03, 5.82244133e+03])"
      ]
     },
     "execution_count": 7,
     "metadata": {},
     "output_type": "execute_result"
    }
   ],
   "source": [
    "def gompertz(a, c, t, t_0):\n",
    "    Q = a * np.exp(-np.exp(-c*(t-t_0)))\n",
    "    return Q\n",
    "\n",
    "x = list(df['days'])\n",
    "y = list(df['cases'])\n",
    "\n",
    "x_train, x_test, y_train, y_test = train_test_split(x,y,train_size=0.9, test_size=0.1, shuffle=False)\n",
    "x_test_added = x_test + list(range((max(x_test)+1), 60))\n",
    "popt, pcov = curve_fit(gompertz, x_train, y_train, method='trf', bounds=([100, 0, 0],[6*max(y_train),0.15, 70]))\n",
    "a, estimated_c, estimated_t_0 = popt\n",
    "y_pred = gompertz(a, estimated_c, x_train+x_test_added, estimated_t_0)\n",
    "\n",
    "y_pred"
   ]
  },
  {
   "cell_type": "markdown",
   "metadata": {},
   "source": [
    "Sekarang kita gambarkan data hasil prediksi tadi ke dalam Grafik / Plot. Disini kita membandingkan antara nilai prediksi dengan data aktual yang terjadi."
   ]
  },
  {
   "cell_type": "code",
   "execution_count": 8,
   "metadata": {},
   "outputs": [
    {
     "data": {
      "text/plain": [
       "<matplotlib.legend.Legend at 0x18870a47310>"
      ]
     },
     "execution_count": 8,
     "metadata": {},
     "output_type": "execute_result"
    },
    {
     "data": {
      "image/png": "[encoded data removed]",
      "text/plain": [
       "<Figure size 640x480 with 1 Axes>"
      ]
     },
     "metadata": {},
     "output_type": "display_data"
    }
   ],
   "source": [
    "plt.plot(x_train+x_test_added, y_pred, linewidth=2, label='predict data') \n",
    "plt.plot(x, y, linewidth=2, color='r', linestyle='dotted', label='train data')\n",
    "# plt.plot(x_test, y_test, linewidth=2, color='g', linestyle='dotted', label='test data')\n",
    "plt.title('prediction vs trained data on covid-19 cases in indonesia\\n')\n",
    "plt.xlabel('days since March 1st 2020')\n",
    "plt.ylabel('confirmed positive')\n",
    "plt.legend(loc='upper left')"
   ]
  },
  {
   "cell_type": "markdown",
   "metadata": {},
   "source": [
    "# Interpretasi Gambar\n",
    "Grafik menunjukkan hasil prediksi pertumbuhan kasus COVID-19 di Indonesia menggunakan model Gompertz. Garis biru mewakili data prediksi, sedangkan titik merah (dotted line) adalah data pelatihan. Grafik menunjukkan kecocokan yang baik antara prediksi dan data pelatihan hingga hari terakhir data pelatihan, dengan model yang terus memperkirakan pertumbuhan hingga hari ke-60. Pola menunjukkan pertumbuhan logistik dengan laju peningkatan yang melambat mendekati kapasitas maksimum sekitar 6000 kasus."
   ]
  },
  {
   "cell_type": "markdown",
   "metadata": {},
   "source": [
    "Kita juga dapat melihat hasil data prediksi Covid-19 tadi ke dalam bentuk tabel. Disini kita melihat hasil prediksi Covid-19 60 Hari ke depannya."
   ]
  },
  {
   "cell_type": "code",
   "execution_count": 9,
   "metadata": {},
   "outputs": [
    {
     "data": {
      "text/html": [
       "<div>\n",
       "<style scoped>\n",
       "    .dataframe tbody tr th:only-of-type {\n",
       "        vertical-align: middle;\n",
       "    }\n",
       "\n",
       "    .dataframe tbody tr th {\n",
       "        vertical-align: top;\n",
       "    }\n",
       "\n",
       "    .dataframe thead th {\n",
       "        text-align: right;\n",
       "    }\n",
       "</style>\n",
       "<table border=\"1\" class=\"dataframe\">\n",
       "  <thead>\n",
       "    <tr style=\"text-align: right;\">\n",
       "      <th></th>\n",
       "      <th>day_pred</th>\n",
       "      <th>cases_pred</th>\n",
       "    </tr>\n",
       "  </thead>\n",
       "  <tbody>\n",
       "    <tr>\n",
       "      <th>0</th>\n",
       "      <td>36</td>\n",
       "      <td>2716.0</td>\n",
       "    </tr>\n",
       "    <tr>\n",
       "      <th>1</th>\n",
       "      <td>37</td>\n",
       "      <td>2905.0</td>\n",
       "    </tr>\n",
       "    <tr>\n",
       "      <th>2</th>\n",
       "      <td>38</td>\n",
       "      <td>3091.0</td>\n",
       "    </tr>\n",
       "    <tr>\n",
       "      <th>3</th>\n",
       "      <td>39</td>\n",
       "      <td>3275.0</td>\n",
       "    </tr>\n",
       "    <tr>\n",
       "      <th>4</th>\n",
       "      <td>40</td>\n",
       "      <td>3455.0</td>\n",
       "    </tr>\n",
       "    <tr>\n",
       "      <th>5</th>\n",
       "      <td>41</td>\n",
       "      <td>3631.0</td>\n",
       "    </tr>\n",
       "    <tr>\n",
       "      <th>6</th>\n",
       "      <td>42</td>\n",
       "      <td>3802.0</td>\n",
       "    </tr>\n",
       "    <tr>\n",
       "      <th>7</th>\n",
       "      <td>43</td>\n",
       "      <td>3968.0</td>\n",
       "    </tr>\n",
       "    <tr>\n",
       "      <th>8</th>\n",
       "      <td>44</td>\n",
       "      <td>4128.0</td>\n",
       "    </tr>\n",
       "    <tr>\n",
       "      <th>9</th>\n",
       "      <td>45</td>\n",
       "      <td>4283.0</td>\n",
       "    </tr>\n",
       "    <tr>\n",
       "      <th>10</th>\n",
       "      <td>46</td>\n",
       "      <td>4432.0</td>\n",
       "    </tr>\n",
       "    <tr>\n",
       "      <th>11</th>\n",
       "      <td>47</td>\n",
       "      <td>4574.0</td>\n",
       "    </tr>\n",
       "    <tr>\n",
       "      <th>12</th>\n",
       "      <td>48</td>\n",
       "      <td>4711.0</td>\n",
       "    </tr>\n",
       "    <tr>\n",
       "      <th>13</th>\n",
       "      <td>49</td>\n",
       "      <td>4841.0</td>\n",
       "    </tr>\n",
       "    <tr>\n",
       "      <th>14</th>\n",
       "      <td>50</td>\n",
       "      <td>4965.0</td>\n",
       "    </tr>\n",
       "    <tr>\n",
       "      <th>15</th>\n",
       "      <td>51</td>\n",
       "      <td>5083.0</td>\n",
       "    </tr>\n",
       "    <tr>\n",
       "      <th>16</th>\n",
       "      <td>52</td>\n",
       "      <td>5194.0</td>\n",
       "    </tr>\n",
       "    <tr>\n",
       "      <th>17</th>\n",
       "      <td>53</td>\n",
       "      <td>5300.0</td>\n",
       "    </tr>\n",
       "    <tr>\n",
       "      <th>18</th>\n",
       "      <td>54</td>\n",
       "      <td>5401.0</td>\n",
       "    </tr>\n",
       "    <tr>\n",
       "      <th>19</th>\n",
       "      <td>55</td>\n",
       "      <td>5495.0</td>\n",
       "    </tr>\n",
       "    <tr>\n",
       "      <th>20</th>\n",
       "      <td>56</td>\n",
       "      <td>5585.0</td>\n",
       "    </tr>\n",
       "    <tr>\n",
       "      <th>21</th>\n",
       "      <td>57</td>\n",
       "      <td>5669.0</td>\n",
       "    </tr>\n",
       "    <tr>\n",
       "      <th>22</th>\n",
       "      <td>58</td>\n",
       "      <td>5748.0</td>\n",
       "    </tr>\n",
       "    <tr>\n",
       "      <th>23</th>\n",
       "      <td>59</td>\n",
       "      <td>5822.0</td>\n",
       "    </tr>\n",
       "  </tbody>\n",
       "</table>\n",
       "</div>"
      ],
      "text/plain": [
       "    day_pred  cases_pred\n",
       "0         36      2716.0\n",
       "1         37      2905.0\n",
       "2         38      3091.0\n",
       "3         39      3275.0\n",
       "4         40      3455.0\n",
       "5         41      3631.0\n",
       "6         42      3802.0\n",
       "7         43      3968.0\n",
       "8         44      4128.0\n",
       "9         45      4283.0\n",
       "10        46      4432.0\n",
       "11        47      4574.0\n",
       "12        48      4711.0\n",
       "13        49      4841.0\n",
       "14        50      4965.0\n",
       "15        51      5083.0\n",
       "16        52      5194.0\n",
       "17        53      5300.0\n",
       "18        54      5401.0\n",
       "19        55      5495.0\n",
       "20        56      5585.0\n",
       "21        57      5669.0\n",
       "22        58      5748.0\n",
       "23        59      5822.0"
      ]
     },
     "execution_count": 9,
     "metadata": {},
     "output_type": "execute_result"
    }
   ],
   "source": [
    "prediksi = pd.DataFrame({'day_pred': x_test_added, 'cases_pred':np.around(y_pred[36:])})\n",
    "prediksi"
   ]
  },
  {
   "cell_type": "markdown",
   "metadata": {},
   "source": [
    "Visualisasi Data Pasien\n",
    "\n",
    "Pertama-tama kita cek terlebih dahulu 5 data pertama dari dataset Pasien tersebut."
   ]
  },
  {
   "cell_type": "code",
   "execution_count": 10,
   "metadata": {},
   "outputs": [
    {
     "data": {
      "text/html": [
       "<div>\n",
       "<style scoped>\n",
       "    .dataframe tbody tr th:only-of-type {\n",
       "        vertical-align: middle;\n",
       "    }\n",
       "\n",
       "    .dataframe tbody tr th {\n",
       "        vertical-align: top;\n",
       "    }\n",
       "\n",
       "    .dataframe thead th {\n",
       "        text-align: right;\n",
       "    }\n",
       "</style>\n",
       "<table border=\"1\" class=\"dataframe\">\n",
       "  <thead>\n",
       "    <tr style=\"text-align: right;\">\n",
       "      <th></th>\n",
       "      <th>patient_id</th>\n",
       "      <th>gender</th>\n",
       "      <th>age</th>\n",
       "      <th>nationality</th>\n",
       "      <th>province</th>\n",
       "      <th>current_state</th>\n",
       "      <th>contacted_with</th>\n",
       "      <th>confirmed_date</th>\n",
       "      <th>released_date</th>\n",
       "      <th>deceased_date</th>\n",
       "      <th>hospital</th>\n",
       "    </tr>\n",
       "  </thead>\n",
       "  <tbody>\n",
       "    <tr>\n",
       "      <th>0</th>\n",
       "      <td>1</td>\n",
       "      <td>female</td>\n",
       "      <td>31.0</td>\n",
       "      <td>indonesia</td>\n",
       "      <td>DKI Jakarta</td>\n",
       "      <td>released</td>\n",
       "      <td>NaN</td>\n",
       "      <td>2-Mar-20</td>\n",
       "      <td>13-Mar-20</td>\n",
       "      <td>NaN</td>\n",
       "      <td>RSPI Sulianti Saroso</td>\n",
       "    </tr>\n",
       "    <tr>\n",
       "      <th>1</th>\n",
       "      <td>2</td>\n",
       "      <td>female</td>\n",
       "      <td>64.0</td>\n",
       "      <td>indonesia</td>\n",
       "      <td>DKI Jakarta</td>\n",
       "      <td>released</td>\n",
       "      <td>1.0</td>\n",
       "      <td>2-Mar-20</td>\n",
       "      <td>16-Mar-20</td>\n",
       "      <td>NaN</td>\n",
       "      <td>RSPI Sulianti Saroso</td>\n",
       "    </tr>\n",
       "    <tr>\n",
       "      <th>2</th>\n",
       "      <td>3</td>\n",
       "      <td>female</td>\n",
       "      <td>33.0</td>\n",
       "      <td>indonesia</td>\n",
       "      <td>DKI Jakarta</td>\n",
       "      <td>released</td>\n",
       "      <td>1.0</td>\n",
       "      <td>6-Mar-20</td>\n",
       "      <td>13-Mar-20</td>\n",
       "      <td>NaN</td>\n",
       "      <td>RSPI Sulianti Saroso</td>\n",
       "    </tr>\n",
       "    <tr>\n",
       "      <th>3</th>\n",
       "      <td>4</td>\n",
       "      <td>female</td>\n",
       "      <td>34.0</td>\n",
       "      <td>indonesia</td>\n",
       "      <td>DKI Jakarta</td>\n",
       "      <td>isolated</td>\n",
       "      <td>1.0</td>\n",
       "      <td>6-Mar-20</td>\n",
       "      <td>NaN</td>\n",
       "      <td>NaN</td>\n",
       "      <td>RSPI Sulianti Saroso</td>\n",
       "    </tr>\n",
       "    <tr>\n",
       "      <th>4</th>\n",
       "      <td>5</td>\n",
       "      <td>male</td>\n",
       "      <td>55.0</td>\n",
       "      <td>indonesia</td>\n",
       "      <td>DKI Jakarta</td>\n",
       "      <td>isolated</td>\n",
       "      <td>1.0</td>\n",
       "      <td>8-Mar-20</td>\n",
       "      <td>NaN</td>\n",
       "      <td>NaN</td>\n",
       "      <td>RS Persahabatan</td>\n",
       "    </tr>\n",
       "  </tbody>\n",
       "</table>\n",
       "</div>"
      ],
      "text/plain": [
       "   patient_id  gender   age nationality     province current_state  \\\n",
       "0           1  female  31.0   indonesia  DKI Jakarta      released   \n",
       "1           2  female  64.0   indonesia  DKI Jakarta      released   \n",
       "2           3  female  33.0   indonesia  DKI Jakarta      released   \n",
       "3           4  female  34.0   indonesia  DKI Jakarta      isolated   \n",
       "4           5    male  55.0   indonesia  DKI Jakarta      isolated   \n",
       "\n",
       "   contacted_with confirmed_date released_date deceased_date  \\\n",
       "0             NaN       2-Mar-20     13-Mar-20           NaN   \n",
       "1             1.0       2-Mar-20     16-Mar-20           NaN   \n",
       "2             1.0       6-Mar-20     13-Mar-20           NaN   \n",
       "3             1.0       6-Mar-20           NaN           NaN   \n",
       "4             1.0       8-Mar-20           NaN           NaN   \n",
       "\n",
       "               hospital  \n",
       "0  RSPI Sulianti Saroso  \n",
       "1  RSPI Sulianti Saroso  \n",
       "2  RSPI Sulianti Saroso  \n",
       "3  RSPI Sulianti Saroso  \n",
       "4       RS Persahabatan  "
      ]
     },
     "execution_count": 10,
     "metadata": {},
     "output_type": "execute_result"
    }
   ],
   "source": [
    "dataPasien.head()"
   ]
  },
  {
   "cell_type": "markdown",
   "metadata": {},
   "source": [
    "1. Selanjutnya kita lihat informasi dari dataset ini seperti banyaknya data dan kolom yang digunakan pada dataset ini.\n",
    "2. Kita hitung banyaknya kelompok data berdasarkan kolom current_state.\n",
    "3. Lalu hitung rata-rata umur berdasarkan kolom gender atau jenis kelamin dari pasien yang ada pada dataset tersebut.\n"
   ]
  },
  {
   "cell_type": "code",
   "execution_count": 11,
   "metadata": {},
   "outputs": [
    {
     "name": "stdout",
     "output_type": "stream",
     "text": [
      "<class 'pandas.core.frame.DataFrame'>\n",
      "RangeIndex: 893 entries, 0 to 892\n",
      "Data columns (total 11 columns):\n",
      " #   Column          Non-Null Count  Dtype  \n",
      "---  ------          --------------  -----  \n",
      " 0   patient_id      893 non-null    int64  \n",
      " 1   gender          156 non-null    object \n",
      " 2   age             156 non-null    float64\n",
      " 3   nationality     156 non-null    object \n",
      " 4   province        156 non-null    object \n",
      " 5   current_state   166 non-null    object \n",
      " 6   contacted_with  27 non-null     float64\n",
      " 7   confirmed_date  893 non-null    object \n",
      " 8   released_date   5 non-null      object \n",
      " 9   deceased_date   4 non-null      object \n",
      " 10  hospital        17 non-null     object \n",
      "dtypes: float64(2), int64(1), object(8)\n",
      "memory usage: 76.9+ KB\n",
      "Distribusi rata-rata umur pasien laki-laki: 48 tahun\n",
      "Distribusi rata-rata umur pasien perempuan: 47 tahun\n"
     ]
    }
   ],
   "source": [
    "dataPasien.info()\n",
    "dataPasien['current_state'].value_counts()\n",
    "\n",
    "male = dataPasien.loc[dataPasien['gender']=='male','age'].mean()\n",
    "female = dataPasien.loc[dataPasien['gender']=='female','age'].mean()\n",
    "print('Distribusi rata-rata umur pasien laki-laki: %i' %male, 'tahun')\n",
    "print('Distribusi rata-rata umur pasien perempuan: %i' %female, 'tahun')\n"
   ]
  },
  {
   "cell_type": "markdown",
   "metadata": {},
   "source": [
    "Visualisasi Data\n",
    "1.  grafik banyaknya pasien berdasarkan kolom current_state.\n",
    "2. Disini kita gambarkan juga grafik untuk melihat data berdasarkan data gender dan data ini dihitung berdasarkan kolom current_state pasien.\n",
    "3. Disini kita tampilkan grafik data pasien berdasarkan provinsi dari pasien tersebut.\n",
    "4. Sekarang kita lihat banyaknya pasien yang positif Covid-19 beredasarkan tanggal terkonfirmasinya dan Data pasien ini ditampilkan dalam bentuk Grafik."
   ]
  },
  {
   "cell_type": "code",
   "execution_count": 12,
   "metadata": {},
   "outputs": [
    {
     "data": {
      "image/png": "[encoded data removed]",
      "text/plain": [
       "<Figure size 640x480 with 1 Axes>"
      ]
     },
     "metadata": {},
     "output_type": "display_data"
    }
   ],
   "source": [
    "dataPasien.current_state.value_counts().plot.bar().grid()"
   ]
  },
  {
   "cell_type": "markdown",
   "metadata": {},
   "source": [
    "# Interpretasi Gambar\n",
    "Grafik batang menunjukkan distribusi status kasus COVID-19 berdasarkan kategori isolated, deceased, dan released. Mayoritas kasus berada dalam kategori isolated (sekitar 140 kasus), menunjukkan pasien yang masih dalam masa isolasi. Jumlah kasus dalam kategori deceased (meninggal) dan released (sembuh/dilepas) jauh lebih sedikit dibandingkan jumlah kasus isolated. Grafik ini mencerminkan proporsi kasus aktif yang masih tinggi dibandingkan dengan kasus sembuh atau meninggal."
   ]
  },
  {
   "cell_type": "code",
   "execution_count": 13,
   "metadata": {},
   "outputs": [
    {
     "data": {
      "text/plain": [
       "<Axes: xlabel='gender', ylabel='count'>"
      ]
     },
     "execution_count": 13,
     "metadata": {},
     "output_type": "execute_result"
    },
    {
     "data": {
      "image/png": "[encoded data removed]",
      "text/plain": [
       "<Figure size 640x480 with 1 Axes>"
      ]
     },
     "metadata": {},
     "output_type": "display_data"
    }
   ],
   "source": [
    "sns.countplot(x='gender', hue='current_state', data=dataPasien)"
   ]
  },
  {
   "cell_type": "markdown",
   "metadata": {},
   "source": [
    "Grafik ini menunjukkan distribusi status kasus COVID-19 berdasarkan gender (laki-laki dan perempuan) dengan kategori released (sembuh), isolated (isolasi), dan deceased (meninggal).\n",
    "\n",
    "1. Kategori Isolated: Mayoritas kasus pada kedua gender berada dalam status isolasi, dengan jumlah kasus laki-laki lebih tinggi daripada perempuan.\n",
    "2. Kategori Released: Kasus sembuh pada kedua gender relatif rendah dibandingkan dengan isolasi.\n",
    "3. Kategori Deceased: Kasus meninggal pada laki-laki dan perempuan hampir setara, tetapi jumlahnya jauh lebih kecil dibandingkan isolasi.\n",
    "\n",
    "Kesimpulan: Kasus aktif (isolated) mendominasi untuk kedua gender, dengan laki-laki memiliki proporsi lebih tinggi secara keseluruhan. Kasus sembuh dan meninggal jauh lebih sedikit dibandingkan isolasi."
   ]
  },
  {
   "cell_type": "code",
   "execution_count": 14,
   "metadata": {},
   "outputs": [
    {
     "data": {
      "text/plain": [
       "<Axes: xlabel='confirmed_date'>"
      ]
     },
     "execution_count": 14,
     "metadata": {},
     "output_type": "execute_result"
    },
    {
     "data": {
      "image/png": "[encoded data removed]",
      "text/plain": [
       "<Figure size 640x480 with 1 Axes>"
      ]
     },
     "metadata": {},
     "output_type": "display_data"
    },
    {
     "data": {
      "image/png": "[encoded data removed]",
      "text/plain": [
       "<Figure size 1500x500 with 1 Axes>"
      ]
     },
     "metadata": {},
     "output_type": "display_data"
    }
   ],
   "source": [
    "dataPasien.province.value_counts().plot.bar()\n",
    "\n",
    "plt.figure(figsize=(15,5))\n",
    "dataPasien.confirmed_date.value_counts().plot.bar()"
   ]
  },
  {
   "cell_type": "markdown",
   "metadata": {},
   "source": [
    "Mengecek Data Provinsi"
   ]
  },
  {
   "cell_type": "code",
   "execution_count": 15,
   "metadata": {},
   "outputs": [
    {
     "data": {
      "text/html": [
       "<div>\n",
       "<style scoped>\n",
       "    .dataframe tbody tr th:only-of-type {\n",
       "        vertical-align: middle;\n",
       "    }\n",
       "\n",
       "    .dataframe tbody tr th {\n",
       "        vertical-align: top;\n",
       "    }\n",
       "\n",
       "    .dataframe thead th {\n",
       "        text-align: right;\n",
       "    }\n",
       "</style>\n",
       "<table border=\"1\" class=\"dataframe\">\n",
       "  <thead>\n",
       "    <tr style=\"text-align: right;\">\n",
       "      <th></th>\n",
       "      <th>province_id</th>\n",
       "      <th>province_name</th>\n",
       "      <th>island</th>\n",
       "      <th>iso_code</th>\n",
       "      <th>capital_city</th>\n",
       "      <th>population</th>\n",
       "      <th>population_kmsquare</th>\n",
       "      <th>confirmed</th>\n",
       "      <th>deceased</th>\n",
       "      <th>released</th>\n",
       "      <th>longitude</th>\n",
       "      <th>latitude</th>\n",
       "    </tr>\n",
       "  </thead>\n",
       "  <tbody>\n",
       "    <tr>\n",
       "      <th>0</th>\n",
       "      <td>1</td>\n",
       "      <td>Aceh</td>\n",
       "      <td>Sumatra</td>\n",
       "      <td>AC</td>\n",
       "      <td>Banda Aceh</td>\n",
       "      <td>4906835</td>\n",
       "      <td>86</td>\n",
       "      <td>4</td>\n",
       "      <td>0</td>\n",
       "      <td>0</td>\n",
       "      <td>9.672.895</td>\n",
       "      <td>3.869.994</td>\n",
       "    </tr>\n",
       "    <tr>\n",
       "      <th>1</th>\n",
       "      <td>2</td>\n",
       "      <td>Bali</td>\n",
       "      <td>Kepulauan Nusa Tenggara</td>\n",
       "      <td>BA</td>\n",
       "      <td>Denpasar</td>\n",
       "      <td>4104900</td>\n",
       "      <td>738</td>\n",
       "      <td>9</td>\n",
       "      <td>2</td>\n",
       "      <td>0</td>\n",
       "      <td>11.512.255</td>\n",
       "      <td>-825.731</td>\n",
       "    </tr>\n",
       "    <tr>\n",
       "      <th>2</th>\n",
       "      <td>3</td>\n",
       "      <td>Banten</td>\n",
       "      <td>Jawa</td>\n",
       "      <td>BT</td>\n",
       "      <td>Serang</td>\n",
       "      <td>11704877</td>\n",
       "      <td>1298</td>\n",
       "      <td>84</td>\n",
       "      <td>4</td>\n",
       "      <td>1</td>\n",
       "      <td>106.160.889</td>\n",
       "      <td>-6.315.299</td>\n",
       "    </tr>\n",
       "    <tr>\n",
       "      <th>3</th>\n",
       "      <td>4</td>\n",
       "      <td>Bengkulu</td>\n",
       "      <td>Sumatra</td>\n",
       "      <td>BE</td>\n",
       "      <td>Bengkulu</td>\n",
       "      <td>1844800</td>\n",
       "      <td>93</td>\n",
       "      <td>0</td>\n",
       "      <td>0</td>\n",
       "      <td>0</td>\n",
       "      <td>102.315.674</td>\n",
       "      <td>-3.414.725</td>\n",
       "    </tr>\n",
       "    <tr>\n",
       "      <th>4</th>\n",
       "      <td>5</td>\n",
       "      <td>DI Yogyakarta</td>\n",
       "      <td>Jawa</td>\n",
       "      <td>YO</td>\n",
       "      <td>Yogyakarta</td>\n",
       "      <td>3553100</td>\n",
       "      <td>1134</td>\n",
       "      <td>22</td>\n",
       "      <td>2</td>\n",
       "      <td>1</td>\n",
       "      <td>110.390.625</td>\n",
       "      <td>-7.863.382</td>\n",
       "    </tr>\n",
       "  </tbody>\n",
       "</table>\n",
       "</div>"
      ],
      "text/plain": [
       "   province_id   province_name                   island iso_code capital_city  \\\n",
       "0            1            Aceh                  Sumatra       AC   Banda Aceh   \n",
       "1            2            Bali  Kepulauan Nusa Tenggara       BA     Denpasar   \n",
       "2            3          Banten                     Jawa       BT       Serang   \n",
       "3            4        Bengkulu                  Sumatra       BE     Bengkulu   \n",
       "4            5   DI Yogyakarta                     Jawa       YO   Yogyakarta   \n",
       "\n",
       "   population  population_kmsquare  confirmed  deceased  released  \\\n",
       "0     4906835                   86          4         0         0   \n",
       "1     4104900                  738          9         2         0   \n",
       "2    11704877                 1298         84         4         1   \n",
       "3     1844800                   93          0         0         0   \n",
       "4     3553100                 1134         22         2         1   \n",
       "\n",
       "     longitude    latitude  \n",
       "0    9.672.895   3.869.994  \n",
       "1   11.512.255    -825.731  \n",
       "2  106.160.889  -6.315.299  \n",
       "3  102.315.674  -3.414.725  \n",
       "4  110.390.625  -7.863.382  "
      ]
     },
     "execution_count": 15,
     "metadata": {},
     "output_type": "execute_result"
    }
   ],
   "source": [
    "Provinsi.head(5)"
   ]
  },
  {
   "cell_type": "code",
   "execution_count": 16,
   "metadata": {},
   "outputs": [
    {
     "name": "stdout",
     "output_type": "stream",
     "text": [
      "Total Data :  (35, 12) \n",
      "\n",
      "<class 'pandas.core.frame.DataFrame'>\n",
      "RangeIndex: 35 entries, 0 to 34\n",
      "Data columns (total 12 columns):\n",
      " #   Column               Non-Null Count  Dtype \n",
      "---  ------               --------------  ----- \n",
      " 0   province_id          35 non-null     int64 \n",
      " 1   province_name        35 non-null     object\n",
      " 2   island               35 non-null     object\n",
      " 3   iso_code             35 non-null     object\n",
      " 4   capital_city         35 non-null     object\n",
      " 5   population           35 non-null     int64 \n",
      " 6   population_kmsquare  35 non-null     int64 \n",
      " 7   confirmed            35 non-null     int64 \n",
      " 8   deceased             35 non-null     int64 \n",
      " 9   released             35 non-null     int64 \n",
      " 10  longitude            35 non-null     object\n",
      " 11  latitude             35 non-null     object\n",
      "dtypes: int64(6), object(6)\n",
      "memory usage: 3.4+ KB\n"
     ]
    },
    {
     "data": {
      "text/plain": [
       "island\n",
       "Sumatra                    10\n",
       "Jawa                        6\n",
       "Sulawesi                    6\n",
       "Kalimantan                  5\n",
       "Kepulauan Nusa Tenggara     3\n",
       "Kepulauan Maluku            2\n",
       "Papua                       2\n",
       "Unknown                     1\n",
       "Name: count, dtype: int64"
      ]
     },
     "execution_count": 16,
     "metadata": {},
     "output_type": "execute_result"
    }
   ],
   "source": [
    "print(\"Total Data : \", Provinsi.shape,\"\\n\")\n",
    "Provinsi.info()\n",
    "\n",
    "Provinsi['island'].value_counts()"
   ]
  },
  {
   "cell_type": "markdown",
   "metadata": {},
   "source": [
    "Deklarasikan sintak atau method yang digunakan untuk menghitung banyaknya jumlah korban yang terkonfirmasi Covid-19."
   ]
  },
  {
   "cell_type": "code",
   "execution_count": 17,
   "metadata": {},
   "outputs": [],
   "source": [
    "#----------Group By---------------\n",
    "def FungsiGroup(column, ds):\n",
    "  dataset = ds\n",
    "  print((dataset.groupby(column).sum()[['confirmed']]).sort_values(by=column, ascending=False))"
   ]
  },
  {
   "cell_type": "markdown",
   "metadata": {},
   "source": [
    "lihat pengelompokan banyaknya pasien yang terkonfirmasi berdasarkan pengelompokan kolom island."
   ]
  },
  {
   "cell_type": "code",
   "execution_count": 18,
   "metadata": {},
   "outputs": [
    {
     "name": "stdout",
     "output_type": "stream",
     "text": [
      "                         confirmed\n",
      "island                            \n",
      "Unknown                         20\n",
      "Sumatra                         29\n",
      "Sulawesi                        35\n",
      "Papua                            7\n",
      "Kepulauan Nusa Tenggara         11\n",
      "Kepulauan Maluku                 2\n",
      "Kalimantan                      22\n",
      "Jawa                           911\n"
     ]
    }
   ],
   "source": [
    "FungsiGroup('island', Provinsi)"
   ]
  },
  {
   "cell_type": "markdown",
   "metadata": {},
   "source": [
    "Sintak dibawah ini digunakan untuk memasukkan data pengelompokan pasien yang terkonfirmasi tadi ke dalam variabel baru untuk proses perhitungan Linear Regresi."
   ]
  },
  {
   "cell_type": "code",
   "execution_count": 19,
   "metadata": {},
   "outputs": [
    {
     "data": {
      "text/html": [
       "<div>\n",
       "<style scoped>\n",
       "    .dataframe tbody tr th:only-of-type {\n",
       "        vertical-align: middle;\n",
       "    }\n",
       "\n",
       "    .dataframe tbody tr th {\n",
       "        vertical-align: top;\n",
       "    }\n",
       "\n",
       "    .dataframe thead th {\n",
       "        text-align: right;\n",
       "    }\n",
       "</style>\n",
       "<table border=\"1\" class=\"dataframe\">\n",
       "  <thead>\n",
       "    <tr style=\"text-align: right;\">\n",
       "      <th></th>\n",
       "      <th>confirmed</th>\n",
       "    </tr>\n",
       "    <tr>\n",
       "      <th>island</th>\n",
       "      <th></th>\n",
       "    </tr>\n",
       "  </thead>\n",
       "  <tbody>\n",
       "    <tr>\n",
       "      <th>Unknown</th>\n",
       "      <td>20</td>\n",
       "    </tr>\n",
       "    <tr>\n",
       "      <th>Sumatra</th>\n",
       "      <td>29</td>\n",
       "    </tr>\n",
       "    <tr>\n",
       "      <th>Sulawesi</th>\n",
       "      <td>35</td>\n",
       "    </tr>\n",
       "    <tr>\n",
       "      <th>Papua</th>\n",
       "      <td>7</td>\n",
       "    </tr>\n",
       "    <tr>\n",
       "      <th>Kepulauan Nusa Tenggara</th>\n",
       "      <td>11</td>\n",
       "    </tr>\n",
       "  </tbody>\n",
       "</table>\n",
       "</div>"
      ],
      "text/plain": [
       "                         confirmed\n",
       "island                            \n",
       "Unknown                         20\n",
       "Sumatra                         29\n",
       "Sulawesi                        35\n",
       "Papua                            7\n",
       "Kepulauan Nusa Tenggara         11"
      ]
     },
     "execution_count": 19,
     "metadata": {},
     "output_type": "execute_result"
    }
   ],
   "source": [
    "df =  pd.DataFrame((Provinsi.groupby('island').sum()[['confirmed']]).sort_values(by='island', ascending=False))\n",
    "df.head()"
   ]
  },
  {
   "cell_type": "markdown",
   "metadata": {},
   "source": [
    "Selanjutnya kita ubah dan hapus index dari kolom island tersebut dan simpan pada kolom island baru."
   ]
  },
  {
   "cell_type": "code",
   "execution_count": 20,
   "metadata": {},
   "outputs": [],
   "source": [
    "df['island']=df.index\n",
    "df.reset_index(drop=True, inplace=True)\n"
   ]
  },
  {
   "cell_type": "markdown",
   "metadata": {},
   "source": [
    "Lalu tampilkan data dari kolom island dan kolom confirmed serta tampilkan 5 data pertama dari kolom ini."
   ]
  },
  {
   "cell_type": "code",
   "execution_count": 21,
   "metadata": {},
   "outputs": [
    {
     "data": {
      "text/html": [
       "<div>\n",
       "<style scoped>\n",
       "    .dataframe tbody tr th:only-of-type {\n",
       "        vertical-align: middle;\n",
       "    }\n",
       "\n",
       "    .dataframe tbody tr th {\n",
       "        vertical-align: top;\n",
       "    }\n",
       "\n",
       "    .dataframe thead th {\n",
       "        text-align: right;\n",
       "    }\n",
       "</style>\n",
       "<table border=\"1\" class=\"dataframe\">\n",
       "  <thead>\n",
       "    <tr style=\"text-align: right;\">\n",
       "      <th></th>\n",
       "      <th>island</th>\n",
       "      <th>confirmed</th>\n",
       "    </tr>\n",
       "  </thead>\n",
       "  <tbody>\n",
       "    <tr>\n",
       "      <th>0</th>\n",
       "      <td>Unknown</td>\n",
       "      <td>20</td>\n",
       "    </tr>\n",
       "    <tr>\n",
       "      <th>1</th>\n",
       "      <td>Sumatra</td>\n",
       "      <td>29</td>\n",
       "    </tr>\n",
       "    <tr>\n",
       "      <th>2</th>\n",
       "      <td>Sulawesi</td>\n",
       "      <td>35</td>\n",
       "    </tr>\n",
       "    <tr>\n",
       "      <th>3</th>\n",
       "      <td>Papua</td>\n",
       "      <td>7</td>\n",
       "    </tr>\n",
       "    <tr>\n",
       "      <th>4</th>\n",
       "      <td>Kepulauan Nusa Tenggara</td>\n",
       "      <td>11</td>\n",
       "    </tr>\n",
       "  </tbody>\n",
       "</table>\n",
       "</div>"
      ],
      "text/plain": [
       "                    island  confirmed\n",
       "0                  Unknown         20\n",
       "1                  Sumatra         29\n",
       "2                 Sulawesi         35\n",
       "3                    Papua          7\n",
       "4  Kepulauan Nusa Tenggara         11"
      ]
     },
     "execution_count": 21,
     "metadata": {},
     "output_type": "execute_result"
    }
   ],
   "source": [
    "df = df[['island', 'confirmed']]\n",
    "df.head()"
   ]
  },
  {
   "cell_type": "markdown",
   "metadata": {},
   "source": [
    "Lalu kita Copy data dari dataset provinsi tadi ke dalam variabel baru. Disini kita hanya menggunakan beberapa kolom data saja."
   ]
  },
  {
   "cell_type": "code",
   "execution_count": 29,
   "metadata": {},
   "outputs": [
    {
     "data": {
      "text/html": [
       "<div>\n",
       "<style scoped>\n",
       "    .dataframe tbody tr th:only-of-type {\n",
       "        vertical-align: middle;\n",
       "    }\n",
       "\n",
       "    .dataframe tbody tr th {\n",
       "        vertical-align: top;\n",
       "    }\n",
       "\n",
       "    .dataframe thead th {\n",
       "        text-align: right;\n",
       "    }\n",
       "</style>\n",
       "<table border=\"1\" class=\"dataframe\">\n",
       "  <thead>\n",
       "    <tr style=\"text-align: right;\">\n",
       "      <th></th>\n",
       "      <th>province_name</th>\n",
       "      <th>capital_city</th>\n",
       "      <th>population_kmsquare</th>\n",
       "      <th>confirmed</th>\n",
       "      <th>deceased</th>\n",
       "    </tr>\n",
       "  </thead>\n",
       "  <tbody>\n",
       "    <tr>\n",
       "      <th>0</th>\n",
       "      <td>Aceh</td>\n",
       "      <td>Banda Aceh</td>\n",
       "      <td>86</td>\n",
       "      <td>4</td>\n",
       "      <td>0</td>\n",
       "    </tr>\n",
       "    <tr>\n",
       "      <th>1</th>\n",
       "      <td>Bali</td>\n",
       "      <td>Denpasar</td>\n",
       "      <td>738</td>\n",
       "      <td>9</td>\n",
       "      <td>2</td>\n",
       "    </tr>\n",
       "    <tr>\n",
       "      <th>2</th>\n",
       "      <td>Banten</td>\n",
       "      <td>Serang</td>\n",
       "      <td>1298</td>\n",
       "      <td>84</td>\n",
       "      <td>4</td>\n",
       "    </tr>\n",
       "    <tr>\n",
       "      <th>3</th>\n",
       "      <td>Bengkulu</td>\n",
       "      <td>Bengkulu</td>\n",
       "      <td>93</td>\n",
       "      <td>0</td>\n",
       "      <td>0</td>\n",
       "    </tr>\n",
       "    <tr>\n",
       "      <th>4</th>\n",
       "      <td>DI Yogyakarta</td>\n",
       "      <td>Yogyakarta</td>\n",
       "      <td>1134</td>\n",
       "      <td>22</td>\n",
       "      <td>2</td>\n",
       "    </tr>\n",
       "  </tbody>\n",
       "</table>\n",
       "</div>"
      ],
      "text/plain": [
       "    province_name capital_city  population_kmsquare  confirmed  deceased\n",
       "0            Aceh   Banda Aceh                   86          4         0\n",
       "1            Bali     Denpasar                  738          9         2\n",
       "2          Banten       Serang                 1298         84         4\n",
       "3        Bengkulu     Bengkulu                   93          0         0\n",
       "4   DI Yogyakarta   Yogyakarta                 1134         22         2"
      ]
     },
     "execution_count": 29,
     "metadata": {},
     "output_type": "execute_result"
    }
   ],
   "source": [
    "dataset = Provinsi[['province_name', 'capital_city', 'population_kmsquare', 'confirmed', 'deceased']]\n",
    "dataset.head()"
   ]
  },
  {
   "cell_type": "markdown",
   "metadata": {},
   "source": [
    "Lalu kita cek banyaknya nilai null dari setiap kolom dari variabel yang baru saja di buat."
   ]
  },
  {
   "cell_type": "code",
   "execution_count": 30,
   "metadata": {},
   "outputs": [
    {
     "data": {
      "text/plain": [
       "province_name          0\n",
       "capital_city           0\n",
       "population_kmsquare    0\n",
       "confirmed              0\n",
       "deceased               0\n",
       "dtype: int64"
      ]
     },
     "execution_count": 30,
     "metadata": {},
     "output_type": "execute_result"
    }
   ],
   "source": [
    "dataset.isnull().sum()"
   ]
  },
  {
   "cell_type": "markdown",
   "metadata": {},
   "source": [
    "LINEAR REGRESI DATASET PROVINSI\n"
   ]
  },
  {
   "cell_type": "code",
   "execution_count": 33,
   "metadata": {},
   "outputs": [
    {
     "name": "stdout",
     "output_type": "stream",
     "text": [
      "(35, 5)\n"
     ]
    },
    {
     "data": {
      "text/html": [
       "<div>\n",
       "<style scoped>\n",
       "    .dataframe tbody tr th:only-of-type {\n",
       "        vertical-align: middle;\n",
       "    }\n",
       "\n",
       "    .dataframe tbody tr th {\n",
       "        vertical-align: top;\n",
       "    }\n",
       "\n",
       "    .dataframe thead th {\n",
       "        text-align: right;\n",
       "    }\n",
       "</style>\n",
       "<table border=\"1\" class=\"dataframe\">\n",
       "  <thead>\n",
       "    <tr style=\"text-align: right;\">\n",
       "      <th></th>\n",
       "      <th>province_name</th>\n",
       "      <th>capital_city</th>\n",
       "      <th>population_kmsquare</th>\n",
       "      <th>confirmed</th>\n",
       "      <th>deceased</th>\n",
       "    </tr>\n",
       "  </thead>\n",
       "  <tbody>\n",
       "    <tr>\n",
       "      <th>0</th>\n",
       "      <td>Aceh</td>\n",
       "      <td>Banda Aceh</td>\n",
       "      <td>86</td>\n",
       "      <td>4</td>\n",
       "      <td>0</td>\n",
       "    </tr>\n",
       "    <tr>\n",
       "      <th>1</th>\n",
       "      <td>Bali</td>\n",
       "      <td>Denpasar</td>\n",
       "      <td>738</td>\n",
       "      <td>9</td>\n",
       "      <td>2</td>\n",
       "    </tr>\n",
       "    <tr>\n",
       "      <th>2</th>\n",
       "      <td>Banten</td>\n",
       "      <td>Serang</td>\n",
       "      <td>1298</td>\n",
       "      <td>84</td>\n",
       "      <td>4</td>\n",
       "    </tr>\n",
       "    <tr>\n",
       "      <th>3</th>\n",
       "      <td>Bengkulu</td>\n",
       "      <td>Bengkulu</td>\n",
       "      <td>93</td>\n",
       "      <td>0</td>\n",
       "      <td>0</td>\n",
       "    </tr>\n",
       "    <tr>\n",
       "      <th>4</th>\n",
       "      <td>DI Yogyakarta</td>\n",
       "      <td>Yogyakarta</td>\n",
       "      <td>1134</td>\n",
       "      <td>22</td>\n",
       "      <td>2</td>\n",
       "    </tr>\n",
       "  </tbody>\n",
       "</table>\n",
       "</div>"
      ],
      "text/plain": [
       "    province_name capital_city  population_kmsquare  confirmed  deceased\n",
       "0            Aceh   Banda Aceh                   86          4         0\n",
       "1            Bali     Denpasar                  738          9         2\n",
       "2          Banten       Serang                 1298         84         4\n",
       "3        Bengkulu     Bengkulu                   93          0         0\n",
       "4   DI Yogyakarta   Yogyakarta                 1134         22         2"
      ]
     },
     "execution_count": 33,
     "metadata": {},
     "output_type": "execute_result"
    }
   ],
   "source": [
    "dtLR = dataset.copy()\n",
    "print(dtLR.shape)\n",
    "dtLR.head()"
   ]
  },
  {
   "cell_type": "markdown",
   "metadata": {},
   "source": [
    "Lalu kita lihat nilai korelasi setiap kolom yang ada pada variabel yang kita gunakan ini."
   ]
  },
  {
   "cell_type": "code",
   "execution_count": 43,
   "metadata": {},
   "outputs": [],
   "source": [
    "dataset = dataset.applymap(lambda x: x.strip() if isinstance(x, str) else x)"
   ]
  },
  {
   "cell_type": "code",
   "execution_count": 45,
   "metadata": {},
   "outputs": [],
   "source": [
    "numeric_data = dataset.select_dtypes(include=['float64', 'int64'])"
   ]
  },
  {
   "cell_type": "code",
   "execution_count": 46,
   "metadata": {},
   "outputs": [
    {
     "data": {
      "image/png": "[encoded data removed]",
      "text/plain": [
       "<Figure size 1200x1000 with 2 Axes>"
      ]
     },
     "metadata": {},
     "output_type": "display_data"
    }
   ],
   "source": [
    "plt.figure(figsize=(12,10))\n",
    "p = sns.heatmap(numeric_data.corr(), annot=True, cmap='RdYlGn')\n",
    "plt.show()"
   ]
  },
  {
   "cell_type": "markdown",
   "metadata": {},
   "source": [
    "## Interpretasi Gambar\n",
    "1. Hubungan Population_kmsquare dengan Confirmed (0.6): Hubungan positif sedang, menunjukkan bahwa daerah dengan populasi lebih padat cenderung memiliki lebih banyak kasus yang dikonfirmasi.\n",
    "1. Hubungan Population_kmsquare dengan Deceased (0.63): Hubungan positif sedang, menunjukkan populasi yang lebih padat sedikit berkorelasi dengan lebih banyak kasus kematian.\n",
    "2. Hubungan Confirmed dengan Deceased (0.99): Hubungan sangat kuat, hampir sempurna, yang menunjukkan bahwa jumlah kasus terkonfirmasi sangat berkorelasi dengan jumlah kematian.\n",
    "\n",
    "Kesimpulan: Daerah dengan populasi yang lebih padat cenderung memiliki lebih banyak kasus terkonfirmasi dan kematian, dengan hubungan yang paling kuat terlihat antara kasus terkonfirmasi dan kematian."
   ]
  },
  {
   "cell_type": "markdown",
   "metadata": {},
   "source": [
    "Sintak dibawah ini digunakn untuk menghapus kolom-kolom yang memiliki relasi paling kecil."
   ]
  },
  {
   "cell_type": "code",
   "execution_count": 48,
   "metadata": {},
   "outputs": [
    {
     "data": {
      "text/html": [
       "<div>\n",
       "<style scoped>\n",
       "    .dataframe tbody tr th:only-of-type {\n",
       "        vertical-align: middle;\n",
       "    }\n",
       "\n",
       "    .dataframe tbody tr th {\n",
       "        vertical-align: top;\n",
       "    }\n",
       "\n",
       "    .dataframe thead th {\n",
       "        text-align: right;\n",
       "    }\n",
       "</style>\n",
       "<table border=\"1\" class=\"dataframe\">\n",
       "  <thead>\n",
       "    <tr style=\"text-align: right;\">\n",
       "      <th></th>\n",
       "      <th>confirmed</th>\n",
       "      <th>deceased</th>\n",
       "    </tr>\n",
       "  </thead>\n",
       "  <tbody>\n",
       "    <tr>\n",
       "      <th>0</th>\n",
       "      <td>4</td>\n",
       "      <td>0</td>\n",
       "    </tr>\n",
       "    <tr>\n",
       "      <th>1</th>\n",
       "      <td>9</td>\n",
       "      <td>2</td>\n",
       "    </tr>\n",
       "    <tr>\n",
       "      <th>2</th>\n",
       "      <td>84</td>\n",
       "      <td>4</td>\n",
       "    </tr>\n",
       "    <tr>\n",
       "      <th>3</th>\n",
       "      <td>0</td>\n",
       "      <td>0</td>\n",
       "    </tr>\n",
       "    <tr>\n",
       "      <th>4</th>\n",
       "      <td>22</td>\n",
       "      <td>2</td>\n",
       "    </tr>\n",
       "  </tbody>\n",
       "</table>\n",
       "</div>"
      ],
      "text/plain": [
       "   confirmed  deceased\n",
       "0          4         0\n",
       "1          9         2\n",
       "2         84         4\n",
       "3          0         0\n",
       "4         22         2"
      ]
     },
     "execution_count": 48,
     "metadata": {},
     "output_type": "execute_result"
    }
   ],
   "source": [
    "dtLR = dtLR.drop(['province_name','capital_city','population_kmsquare'], axis=1)\n",
    "dtLR.head(5)"
   ]
  },
  {
   "cell_type": "markdown",
   "metadata": {},
   "source": [
    "Lalu kita pisahkan data ke dalam variabel X dan Y untuk proses Analisa Linear Regresi."
   ]
  },
  {
   "cell_type": "code",
   "execution_count": 49,
   "metadata": {},
   "outputs": [],
   "source": [
    "#-----Proses linear regression\n",
    "X_LR=dtLR.iloc[:, :-1].values\n",
    "Y_LR=dtLR.iloc[:, 1].values"
   ]
  },
  {
   "cell_type": "markdown",
   "metadata": {},
   "source": [
    "Sintak dibawah ini digunakan untuk mendefinisikan data testing dan training yang digunakan."
   ]
  },
  {
   "cell_type": "code",
   "execution_count": 50,
   "metadata": {},
   "outputs": [],
   "source": [
    "from sklearn.model_selection import train_test_split\n",
    "X_train_1, X_test_1, y_train_1, y_test_1 = train_test_split(X_LR, Y_LR, test_size = 0.20, random_state = 0)"
   ]
  },
  {
   "cell_type": "markdown",
   "metadata": {},
   "source": [
    "Deklarasikan sintak untuk linear regresi tersebut serta panggil data training yang digunakan."
   ]
  },
  {
   "cell_type": "code",
   "execution_count": 51,
   "metadata": {},
   "outputs": [
    {
     "data": {
      "text/html": [
       "<style>#sk-container-id-1 {color: black;}#sk-container-id-1 pre{padding: 0;}#sk-container-id-1 div.sk-toggleable {background-color: white;}#sk-container-id-1 label.sk-toggleable__label {cursor: pointer;display: block;width: 100%;margin-bottom: 0;padding: 0.3em;box-sizing: border-box;text-align: center;}#sk-container-id-1 label.sk-toggleable__label-arrow:before {content: \"▸\";float: left;margin-right: 0.25em;color: #696969;}#sk-container-id-1 label.sk-toggleable__label-arrow:hover:before {color: black;}#sk-container-id-1 div.sk-estimator:hover label.sk-toggleable__label-arrow:before {color: black;}#sk-container-id-1 div.sk-toggleable__content {max-height: 0;max-width: 0;overflow: hidden;text-align: left;background-color: #f0f8ff;}#sk-container-id-1 div.sk-toggleable__content pre {margin: 0.2em;color: black;border-radius: 0.25em;background-color: #f0f8ff;}#sk-container-id-1 input.sk-toggleable__control:checked~div.sk-toggleable__content {max-height: 200px;max-width: 100%;overflow: auto;}#sk-container-id-1 input.sk-toggleable__control:checked~label.sk-toggleable__label-arrow:before {content: \"▾\";}#sk-container-id-1 div.sk-estimator input.sk-toggleable__control:checked~label.sk-toggleable__label {background-color: #d4ebff;}#sk-container-id-1 div.sk-label input.sk-toggleable__control:checked~label.sk-toggleable__label {background-color: #d4ebff;}#sk-container-id-1 input.sk-hidden--visually {border: 0;clip: rect(1px 1px 1px 1px);clip: rect(1px, 1px, 1px, 1px);height: 1px;margin: -1px;overflow: hidden;padding: 0;position: absolute;width: 1px;}#sk-container-id-1 div.sk-estimator {font-family: monospace;background-color: #f0f8ff;border: 1px dotted black;border-radius: 0.25em;box-sizing: border-box;margin-bottom: 0.5em;}#sk-container-id-1 div.sk-estimator:hover {background-color: #d4ebff;}#sk-container-id-1 div.sk-parallel-item::after {content: \"\";width: 100%;border-bottom: 1px solid gray;flex-grow: 1;}#sk-container-id-1 div.sk-label:hover label.sk-toggleable__label {background-color: #d4ebff;}#sk-container-id-1 div.sk-serial::before {content: \"\";position: absolute;border-left: 1px solid gray;box-sizing: border-box;top: 0;bottom: 0;left: 50%;z-index: 0;}#sk-container-id-1 div.sk-serial {display: flex;flex-direction: column;align-items: center;background-color: white;padding-right: 0.2em;padding-left: 0.2em;position: relative;}#sk-container-id-1 div.sk-item {position: relative;z-index: 1;}#sk-container-id-1 div.sk-parallel {display: flex;align-items: stretch;justify-content: center;background-color: white;position: relative;}#sk-container-id-1 div.sk-item::before, #sk-container-id-1 div.sk-parallel-item::before {content: \"\";position: absolute;border-left: 1px solid gray;box-sizing: border-box;top: 0;bottom: 0;left: 50%;z-index: -1;}#sk-container-id-1 div.sk-parallel-item {display: flex;flex-direction: column;z-index: 1;position: relative;background-color: white;}#sk-container-id-1 div.sk-parallel-item:first-child::after {align-self: flex-end;width: 50%;}#sk-container-id-1 div.sk-parallel-item:last-child::after {align-self: flex-start;width: 50%;}#sk-container-id-1 div.sk-parallel-item:only-child::after {width: 0;}#sk-container-id-1 div.sk-dashed-wrapped {border: 1px dashed gray;margin: 0 0.4em 0.5em 0.4em;box-sizing: border-box;padding-bottom: 0.4em;background-color: white;}#sk-container-id-1 div.sk-label label {font-family: monospace;font-weight: bold;display: inline-block;line-height: 1.2em;}#sk-container-id-1 div.sk-label-container {text-align: center;}#sk-container-id-1 div.sk-container {/* jupyter's `normalize.less` sets `[hidden] { display: none; }` but bootstrap.min.css set `[hidden] { display: none !important; }` so we also need the `!important` here to be able to override the default hidden behavior on the sphinx rendered scikit-learn.org. See: https://github.com/scikit-learn/scikit-learn/issues/21755 */display: inline-block !important;position: relative;}#sk-container-id-1 div.sk-text-repr-fallback {display: none;}</style><div id=\"sk-container-id-1\" class=\"sk-top-container\"><div class=\"sk-text-repr-fallback\"><pre>LinearRegression()</pre><b>In a Jupyter environment, please rerun this cell to show the HTML representation or trust the notebook. <br />On GitHub, the HTML representation is unable to render, please try loading this page with nbviewer.org.</b></div><div class=\"sk-container\" hidden><div class=\"sk-item\"><div class=\"sk-estimator sk-toggleable\"><input class=\"sk-toggleable__control sk-hidden--visually\" id=\"sk-estimator-id-1\" type=\"checkbox\" checked><label for=\"sk-estimator-id-1\" class=\"sk-toggleable__label sk-toggleable__label-arrow\">LinearRegression</label><div class=\"sk-toggleable__content\"><pre>LinearRegression()</pre></div></div></div></div></div>"
      ],
      "text/plain": [
       "LinearRegression()"
      ]
     },
     "execution_count": 51,
     "metadata": {},
     "output_type": "execute_result"
    }
   ],
   "source": [
    "from sklearn.linear_model import LinearRegression\n",
    "regressor = LinearRegression()\n",
    "regressor.fit(X_train_1, y_train_1)"
   ]
  },
  {
   "cell_type": "markdown",
   "metadata": {},
   "source": [
    "Sintak dibawah ini digunakan untuk melakukan proses prediksi data testing yang kita gunakan."
   ]
  },
  {
   "cell_type": "code",
   "execution_count": 52,
   "metadata": {},
   "outputs": [],
   "source": [
    "pred = regressor.predict(X_test_1)"
   ]
  },
  {
   "cell_type": "markdown",
   "metadata": {},
   "source": [
    "Lalu kita gambarkan sebaran data dan hubungan antar kolom dari kolom confirmed dan deceased."
   ]
  },
  {
   "cell_type": "code",
   "execution_count": 56,
   "metadata": {},
   "outputs": [
    {
     "data": {
      "image/png": "[encoded data removed]",
      "text/plain": [
       "<Figure size 640x480 with 1 Axes>"
      ]
     },
     "metadata": {},
     "output_type": "display_data"
    }
   ],
   "source": [
    "plt.scatter(X_test_1, y_test_1, color = 'red')\n",
    "plt.plot(X_train_1, regressor.predict(X_train_1), color = 'blue' )\n",
    "plt.title('confirmed vs deceased')\n",
    "plt.xlabel('confirmed')\n",
    "plt.ylabel('deceased')\n",
    "plt.show()"
   ]
  },
  {
   "cell_type": "markdown",
   "metadata": {},
   "source": [
    "1. Hubungan Linear: Garis biru menunjukkan hubungan linear antara jumlah kasus yang dikonfirmasi dan jumlah kematian, dengan kematian meningkat seiring dengan bertambahnya kasus terkonfirmasi.\n",
    "2. Titik Data: Titik merah merepresentasikan data sebenarnya, yang umumnya mengikuti pola garis linear, menegaskan korelasi yang kuat antara kedua variabel.\n",
    "3. Korelasi Kuat: Pola ini mendukung temuan sebelumnya bahwa jumlah kasus terkonfirmasi hampir selalu berkorelasi dengan jumlah kematian secara proporsional.\n",
    "\n",
    "Kesimpulan: Jumlah kasus yang dikonfirmasi sangat berkorelasi dengan jumlah kematian, mencerminkan bahwa peningkatan kasus aktif dapat langsung berdampak pada angka kematian."
   ]
  },
  {
   "cell_type": "markdown",
   "metadata": {},
   "source": [
    "## Penjelasan\n",
    "**Tujuan yang Ingin Dicapai**:\n",
    "1. Analisis Korelasi: Mengidentifikasi hubungan antara variabel seperti jumlah kasus terkonfirmasi, kematian, dan populasi untuk memahami pola penyebaran COVID-19.\n",
    "2. Segmentasi Data: Mengelompokkan kasus berdasarkan atribut tertentu (gender, status kasus) untuk memahami distribusi populasi yang terpengaruh.\n",
    "3. Prediksi dan Tren: Memproyeksikan pertumbuhan kasus menggunakan model matematis seperti Gompertz untuk memprediksi perkembangan di masa depan.\n",
    "4. Visualisasi Data: Menyampaikan pola dan hubungan data melalui grafik untuk mempermudah pemahaman dan pengambilan keputusan.\n",
    "\n",
    "**Kesimpulan Akhir**:\n",
    "1. Populasi Berdampak: Kasus aktif (isolated) mendominasi baik pada laki-laki maupun perempuan, dengan jumlah kasus pada laki-laki sedikit lebih tinggi.\n",
    "2. Korelasi Kuat: Terdapat hubungan linear yang kuat antara jumlah kasus terkonfirmasi dan kematian, menunjukkan bahwa peningkatan kasus aktif cenderung meningkatkan angka kematian.\n",
    "3. Faktor Populasi: Kepadatan populasi memiliki hubungan moderat dengan jumlah kasus terkonfirmasi dan kematian, mengindikasikan bahwa daerah padat penduduk lebih rentan terhadap penyebaran COVID-19.\n",
    "4. Model Prediksi: Pertumbuhan kasus mengikuti pola logistik, dengan laju peningkatan melambat mendekati kapasitas maksimum.\n",
    "5. Visualisasi Data: Semua grafik membantu mengidentifikasi pola distribusi, korelasi, dan tren yang penting untuk memantau dan memitigasi dampak pandemi.\n",
    "\n",
    "**Kesimpulan Akhir**: Analisis ini membantu memahami pola penyebaran COVID-19, faktor risiko seperti populasi padat, dan menyediakan proyeksi tren kasus yang dapat digunakan sebagai dasar pengambilan kebijakan mitigasi dan pencegahan."
   ]
  }
 ],
 "metadata": {
  "kernelspec": {
   "display_name": "Python 3",
   "language": "python",
   "name": "python3"
  },
  "language_info": {
   "codemirror_mode": {
    "name": "ipython",
    "version": 3
   },
   "file_extension": ".py",
   "mimetype": "text/x-python",
   "name": "python",
   "nbconvert_exporter": "python",
   "pygments_lexer": "ipython3",
   "version": "3.8.8"
  }
 },
 "nbformat": 4,
 "nbformat_minor": 2
}
